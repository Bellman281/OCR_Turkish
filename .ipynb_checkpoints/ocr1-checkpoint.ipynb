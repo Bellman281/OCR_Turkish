{
 "cells": [
  {
   "cell_type": "code",
   "execution_count": 1,
   "metadata": {},
   "outputs": [],
   "source": [
    "\n",
    "\n",
    "# USAGE\n",
    "# python ocr.py --image images/example_01.png \n",
    "# python ocr.py --image images/example_02.png  --preprocess blur\n",
    "\n",
    "# import the necessary packages\n",
    "from PIL import Image\n",
    "import pytesseract\n",
    "import argparse\n",
    "import cv2\n",
    "import os\n"
   ]
  },
  {
   "cell_type": "code",
   "execution_count": 3,
   "metadata": {},
   "outputs": [
    {
     "name": "stdout",
     "output_type": "stream",
     "text": [
      "> Organik Gübre\n",
      "A Gc SO Biyokontrol\n",
      "Biyoremediasyon\n",
      "\n",
      "supersol.com.tr\n",
      "\n",
      "Özer Deniz Aslan\n",
      "\n",
      "deniz©supersol.com.tr GSM: 0555 48113 91\n",
      "\n",
      "Supersol Organik Tarım ve Hayvancılık Gübre Zirai İlaç San. ve Tic. Ltd. Şti.\n",
      "\n",
      "izmir Fabrika: İTOB O.S.B. Sakarya Fabrika: Ahmediye Mah.\n",
      "Ekrem Demirtaş Cad. Dağdibi Sokak No:68\n",
      "\n",
      "No: 26 Menderes / İZMİR Arifiye 54580 / SAKARYA\n",
      "\n",
      "Tel: 0232 799 03 57 Tel: 0264 999 19 00\n"
     ]
    }
   ],
   "source": [
    "# source : https://github.com/ZER-0-NE/EAST-Detector-for-text-detection-using-OpenCV\n",
    "\n",
    "\n",
    "# load the example image and convert it to grayscale\n",
    "image = cv2.imread('images/bc1.jpg')\n",
    "gray = cv2.cvtColor(image, cv2.COLOR_BGR2GRAY)\n",
    "gray = cv2.threshold(gray, 0, 255,\n",
    "    cv2.THRESH_BINARY | cv2.THRESH_OTSU)[1]\n",
    "# cv2.imshow(\"Image\", gray)\n",
    "# gray = cv2.medianBlur(gray, 3)\n",
    "# check to see if we should apply thresholding to preprocess the\n",
    "\n",
    "\n",
    "# write the grayscale image to disk as a temporary file so we can\n",
    "# apply OCR to it\n",
    "filename = \"{}.png\".format(os.getpid())\n",
    "cv2.imwrite(filename, gray)\n",
    "\n",
    "# load the image as a PIL/Pillow image, apply OCR, and then delete\n",
    "# the temporary file\n",
    "\n",
    "\n",
    "\n",
    "text = pytesseract.image_to_string(Image.open(filename),lang='tur')\n",
    "# os.remove(filename)\n",
    "print(text)\n",
    "output=open('out.txt','w')\n",
    "output.write(text)\n",
    "output.close()\n",
    "# show the output images\n",
    "# cv2.imshow(\"Image\", image)\n",
    "# cv2.imshow(\"Output\", gray)\n",
    "# cv2.waitKey(0)"
   ]
  },
  {
   "cell_type": "code",
   "execution_count": null,
   "metadata": {},
   "outputs": [],
   "source": []
  }
 ],
 "metadata": {
  "kernelspec": {
   "display_name": "Python 3",
   "language": "python",
   "name": "python3"
  },
  "language_info": {
   "codemirror_mode": {
    "name": "ipython",
    "version": 3
   },
   "file_extension": ".py",
   "mimetype": "text/x-python",
   "name": "python",
   "nbconvert_exporter": "python",
   "pygments_lexer": "ipython3",
   "version": "3.6.5"
  }
 },
 "nbformat": 4,
 "nbformat_minor": 2
}
