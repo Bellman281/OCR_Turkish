{
 "cells": [
  {
   "cell_type": "code",
   "execution_count": 1,
   "metadata": {},
   "outputs": [],
   "source": [
    "# USAGE\n",
    "# python ocr.py --image images/example_01.png \n",
    "# python ocr.py --image images/example_02.png  --preprocess blur\n",
    "\n",
    "# import the necessary packages\n",
    "from PIL import Image\n",
    "import pytesseract\n",
    "import argparse\n",
    "import cv2\n",
    "import os\n"
   ]
  },
  {
   "cell_type": "code",
   "execution_count": 2,
   "metadata": {},
   "outputs": [
    {
     "name": "stdout",
     "output_type": "stream",
     "text": [
      ": KAYADİBİ Otomotiv İnşaat San.ve Tic. Ltd. Şti.\n",
      "2 TR390000398559)\n",
      "# KIRKLARELİ\n",
      "Lüleburgaz\n",
      "Eskibedir Köyü Yörükdere Mevkii\n",
      "970\n",
      "1 1733\n"
     ]
    }
   ],
   "source": [
    "\n",
    "\n",
    "\n",
    "# load the example image and convert it to grayscale\n",
    "image = cv2.imread('images/crop2.jpg')\n",
    "gray = cv2.cvtColor(image, cv2.COLOR_BGR2GRAY)\n",
    "# gray = cv2.threshold(gray, 0, 255,\n",
    "#     cv2.THRESH_BINARY | cv2.THRESH_OTSU)[1]\n",
    "# cv2.imshow(\"Image\", gray)\n",
    "# gray = cv2.medianBlur(gray, 3)\n",
    "# check to see if we should apply thresholding to preprocess the\n",
    "\n",
    "\n",
    "# write the grayscale image to disk as a temporary file so we can\n",
    "# apply OCR to it\n",
    "filename = \"{}.png\".format(os.getpid())\n",
    "cv2.imwrite(filename, gray)\n",
    "\n",
    "# load the image as a PIL/Pillow image, apply OCR, and then delete\n",
    "# the temporary file\n",
    "# config='--psm 10 --oem 3 -c tessedit_char_whitelist=0123456789'\n",
    "text = pytesseract.image_to_string(Image.open(filename),lang='tur',config=' --oem 1 --psm 6')\n",
    "# os.remove(filename)\n",
    "print(text)\n",
    "output=open('out.txt','w')\n",
    "output.write(text)\n",
    "output.close()\n",
    "# show the output images\n",
    "# cv2.imshow(\"Image\", image)\n",
    "# cv2.imshow(\"Output\", gray)\n",
    "# cv2.waitKey(0)"
   ]
  },
  {
   "cell_type": "code",
   "execution_count": null,
   "metadata": {},
   "outputs": [],
   "source": []
  }
 ],
 "metadata": {
  "kernelspec": {
   "display_name": "Python 3",
   "language": "python",
   "name": "python3"
  },
  "language_info": {
   "codemirror_mode": {
    "name": "ipython",
    "version": 3
   },
   "file_extension": ".py",
   "mimetype": "text/x-python",
   "name": "python",
   "nbconvert_exporter": "python",
   "pygments_lexer": "ipython3",
   "version": "3.6.5"
  }
 },
 "nbformat": 4,
 "nbformat_minor": 2
}
